{
 "cells": [
  {
   "cell_type": "code",
   "execution_count": 40,
   "id": "38764a3a-2da3-484e-8be5-2fd922fffccc",
   "metadata": {},
   "outputs": [],
   "source": [
    "import pandas as pd\n",
    "import numpy as py\n",
    "import os\n",
    "import matplotlib.pyplot as plt\n",
    "from scipy import stats"
   ]
  },
  {
   "cell_type": "code",
   "execution_count": 41,
   "id": "cdada7ee-3b7c-4d15-a29e-788a364d9db6",
   "metadata": {},
   "outputs": [],
   "source": [
    "data1 = pd.read_csv(\"data-1.csv\")\n",
    "data2 = pd.read_csv(\"data-2.csv\")\n",
    "data3 = pd.read_csv(\"data-3.csv\")\n",
    "data4 = pd.read_csv(\"data-4.csv\")\n",
    "data5 = pd.read_csv(\"data-5.csv\")\n",
    "data6 = pd.read_csv(\"data-6.csv\")"
   ]
  },
  {
   "cell_type": "code",
   "execution_count": 42,
   "id": "e3c8ac0a-a011-403a-8563-93d60b610cf4",
   "metadata": {},
   "outputs": [],
   "source": [
    "def aggrateFuncton(data,index):\n",
    "    summary = pd.DataFrame(\n",
    "    {\n",
    "        'meanX': data['x'].mean(),      \n",
    "        'stdX' : data['x'].std(),\n",
    "        'rangeX' : str([data['x'].max(), data['x'].min()]),\n",
    "        'meanY' : data['y'].mean(),\n",
    "        'stdY' : data['y'].std(),\n",
    "        'rangeY' : str([data['y'].max(), data['y'].min()]),\n",
    "        'corr_coeff' : data.corr()['x']['y']\n",
    "    },\n",
    "        index = [index]\n",
    "    )\n",
    "    return summary"
   ]
  },
  {
   "cell_type": "code",
   "execution_count": 43,
   "id": "804e127b-278f-4202-b429-ea38f8771974",
   "metadata": {},
   "outputs": [
    {
     "data": {
      "text/html": [
       "<div>\n",
       "<style scoped>\n",
       "    .dataframe tbody tr th:only-of-type {\n",
       "        vertical-align: middle;\n",
       "    }\n",
       "\n",
       "    .dataframe tbody tr th {\n",
       "        vertical-align: top;\n",
       "    }\n",
       "\n",
       "    .dataframe thead th {\n",
       "        text-align: right;\n",
       "    }\n",
       "</style>\n",
       "<table border=\"1\" class=\"dataframe\">\n",
       "  <thead>\n",
       "    <tr style=\"text-align: right;\">\n",
       "      <th></th>\n",
       "      <th>meanX</th>\n",
       "      <th>stdX</th>\n",
       "      <th>rangeX</th>\n",
       "      <th>meanY</th>\n",
       "      <th>stdY</th>\n",
       "      <th>rangeY</th>\n",
       "      <th>corr_coeff</th>\n",
       "    </tr>\n",
       "  </thead>\n",
       "  <tbody>\n",
       "    <tr>\n",
       "      <th>data1</th>\n",
       "      <td>8.717696</td>\n",
       "      <td>12.155517</td>\n",
       "      <td>[35.23705548785129, -22.635877790008944]</td>\n",
       "      <td>12.522874</td>\n",
       "      <td>6.639964</td>\n",
       "      <td>[27.38415261152477, -2.565087832693213]</td>\n",
       "      <td>0.950326</td>\n",
       "    </tr>\n",
       "    <tr>\n",
       "      <th>data2</th>\n",
       "      <td>-0.710787</td>\n",
       "      <td>11.481584</td>\n",
       "      <td>[27.6470003722073, -33.2711130771198]</td>\n",
       "      <td>-0.748987</td>\n",
       "      <td>6.257918</td>\n",
       "      <td>[14.14731499231748, -18.621803760419063]</td>\n",
       "      <td>0.955153</td>\n",
       "    </tr>\n",
       "    <tr>\n",
       "      <th>data3</th>\n",
       "      <td>0.968907</td>\n",
       "      <td>2.235558</td>\n",
       "      <td>[4.51888491755363, -2.4490643296742807]</td>\n",
       "      <td>8.508535</td>\n",
       "      <td>1.149301</td>\n",
       "      <td>[10.551871022804317, 6.641734490391763]</td>\n",
       "      <td>0.981937</td>\n",
       "    </tr>\n",
       "    <tr>\n",
       "      <th>data4</th>\n",
       "      <td>49.905086</td>\n",
       "      <td>28.508611</td>\n",
       "      <td>[87.3767, 0.0]</td>\n",
       "      <td>18.553837</td>\n",
       "      <td>16.545896</td>\n",
       "      <td>[44.56504, 0.0]</td>\n",
       "      <td>-0.081193</td>\n",
       "    </tr>\n",
       "    <tr>\n",
       "      <th>data5</th>\n",
       "      <td>49.909994</td>\n",
       "      <td>28.500001</td>\n",
       "      <td>[91.0528633396976, 4.337892453674525]</td>\n",
       "      <td>18.555525</td>\n",
       "      <td>16.540796</td>\n",
       "      <td>[49.93419703633311, 0.0554975075811517]</td>\n",
       "      <td>-0.088236</td>\n",
       "    </tr>\n",
       "    <tr>\n",
       "      <th>data6</th>\n",
       "      <td>7.216155</td>\n",
       "      <td>11.921599</td>\n",
       "      <td>[35.402138910929, -24.33382075234097]</td>\n",
       "      <td>7.602215</td>\n",
       "      <td>11.764382</td>\n",
       "      <td>[36.07987403078143, -22.9563569970746]</td>\n",
       "      <td>0.935069</td>\n",
       "    </tr>\n",
       "  </tbody>\n",
       "</table>\n",
       "</div>"
      ],
      "text/plain": [
       "           meanX       stdX                                    rangeX  \\\n",
       "data1   8.717696  12.155517  [35.23705548785129, -22.635877790008944]   \n",
       "data2  -0.710787  11.481584     [27.6470003722073, -33.2711130771198]   \n",
       "data3   0.968907   2.235558   [4.51888491755363, -2.4490643296742807]   \n",
       "data4  49.905086  28.508611                            [87.3767, 0.0]   \n",
       "data5  49.909994  28.500001     [91.0528633396976, 4.337892453674525]   \n",
       "data6   7.216155  11.921599     [35.402138910929, -24.33382075234097]   \n",
       "\n",
       "           meanY       stdY                                    rangeY  \\\n",
       "data1  12.522874   6.639964   [27.38415261152477, -2.565087832693213]   \n",
       "data2  -0.748987   6.257918  [14.14731499231748, -18.621803760419063]   \n",
       "data3   8.508535   1.149301   [10.551871022804317, 6.641734490391763]   \n",
       "data4  18.553837  16.545896                           [44.56504, 0.0]   \n",
       "data5  18.555525  16.540796   [49.93419703633311, 0.0554975075811517]   \n",
       "data6   7.602215  11.764382    [36.07987403078143, -22.9563569970746]   \n",
       "\n",
       "       corr_coeff  \n",
       "data1    0.950326  \n",
       "data2    0.955153  \n",
       "data3    0.981937  \n",
       "data4   -0.081193  \n",
       "data5   -0.088236  \n",
       "data6    0.935069  "
      ]
     },
     "execution_count": 43,
     "metadata": {},
     "output_type": "execute_result"
    }
   ],
   "source": [
    "summary = aggrateFuncton(data1,\"data1\")\n",
    "summary = summary.append(aggrateFuncton(data2,\"data2\"))\n",
    "summary = summary.append(aggrateFuncton(data3,\"data3\"))\n",
    "summary = summary.append(aggrateFuncton(data4,\"data4\"))\n",
    "summary = summary.append(aggrateFuncton(data5,\"data5\"))\n",
    "summary = summary.append(aggrateFuncton(data6,\"data6\"))\n",
    "summary"
   ]
  },
  {
   "cell_type": "code",
   "execution_count": 44,
   "metadata": {},
   "outputs": [
    {
     "data": {
      "image/png": "[encoded data removed]",
      "text/plain": [
       "<Figure size 432x288 with 1 Axes>"
      ]
     },
     "metadata": {
      "needs_background": "light"
     },
     "output_type": "display_data"
    }
   ],
   "source": [
    "plt.xlabel('x')\n",
    "plt.ylabel('y')\n",
    "plt.title('data1')\n",
    "fit = stats.linregress(data1['x'],data1['y'])\n",
    "data1['fit'] = data1['x']*fit.slope + fit.intercept\n",
    "plt.plot(data1['x'], data1['y'], 'b.')\n",
    "plt.plot(data1['x'], data1['fit'], 'r-')\n",
    "plt.show()"
   ]
  },
  {
   "cell_type": "code",
   "execution_count": 45,
   "metadata": {},
   "outputs": [
    {
     "data": {
      "text/plain": [
       "[<matplotlib.lines.Line2D at 0x1ca5e008bb0>]"
      ]
     },
     "execution_count": 45,
     "metadata": {},
     "output_type": "execute_result"
    },
    {
     "data": {
      "image/png": "[encoded data removed]",
      "text/plain": [
       "<Figure size 432x288 with 1 Axes>"
      ]
     },
     "metadata": {
      "needs_background": "light"
     },
     "output_type": "display_data"
    }
   ],
   "source": [
    "plt.xlabel('x')\n",
    "plt.ylabel('y')\n",
    "plt.title('data2')\n",
    "fit = stats.linregress(data2['x'],data2['y'])\n",
    "data2['fit'] = data2['x']*fit.slope + fit.intercept\n",
    "plt.plot(data2['x'], data2['y'], 'b.')\n",
    "plt.plot(data2['x'], data2['fit'], 'r-')"
   ]
  },
  {
   "cell_type": "code",
   "execution_count": 46,
   "metadata": {},
   "outputs": [
    {
     "data": {
      "image/png": "[encoded data removed]",
      "text/plain": [
       "<Figure size 432x288 with 1 Axes>"
      ]
     },
     "metadata": {
      "needs_background": "light"
     },
     "output_type": "display_data"
    }
   ],
   "source": [
    "plt.xlabel('x')\n",
    "plt.ylabel('y')\n",
    "plt.title('data3')\n",
    "fit = stats.linregress(data3['x'],data3['y'])\n",
    "data3['fit'] = data3['x']*fit.slope + fit.intercept\n",
    "plt.plot(data3['x'], data3['y'], 'b.')\n",
    "plt.plot(data3['x'], data3['fit'], 'r-')\n",
    "plt.show()"
   ]
  },
  {
   "cell_type": "code",
   "execution_count": 47,
   "metadata": {},
   "outputs": [
    {
     "data": {
      "image/png": "[encoded data removed]",
      "text/plain": [
       "<Figure size 432x288 with 1 Axes>"
      ]
     },
     "metadata": {
      "needs_background": "light"
     },
     "output_type": "display_data"
    }
   ],
   "source": [
    "plt.xlabel('x')\n",
    "plt.ylabel('y')\n",
    "plt.title('data4')\n",
    "fit = stats.linregress(data4['x'],data4['y'])\n",
    "data4['fit'] = data4['x']*fit.slope + fit.intercept\n",
    "plt.plot(data4['x'], data4['y'], 'b.')\n",
    "plt.plot(data4['x'], data4['fit'], 'r-')\n",
    "plt.show()"
   ]
  },
  {
   "cell_type": "code",
   "execution_count": 48,
   "metadata": {},
   "outputs": [
    {
     "data": {
      "image/png": "[encoded data removed]",
      "text/plain": [
       "<Figure size 432x288 with 1 Axes>"
      ]
     },
     "metadata": {
      "needs_background": "light"
     },
     "output_type": "display_data"
    }
   ],
   "source": [
    "plt.xlabel('x')\n",
    "plt.ylabel('y')\n",
    "plt.title('data5')\n",
    "fit = stats.linregress(data5['x'],data5['y'])\n",
    "data5['fit'] = data5['x']*fit.slope + fit.intercept\n",
    "plt.plot(data5['x'], data5['y'], 'b.')\n",
    "plt.plot(data5['x'], data5['fit'], 'r-')\n",
    "plt.show()"
   ]
  },
  {
   "cell_type": "code",
   "execution_count": 49,
   "metadata": {},
   "outputs": [
    {
     "data": {
      "image/png": "[encoded data removed]",
      "text/plain": [
       "<Figure size 432x288 with 1 Axes>"
      ]
     },
     "metadata": {
      "needs_background": "light"
     },
     "output_type": "display_data"
    }
   ],
   "source": [
    "plt.xlabel('x')\n",
    "plt.ylabel('y')\n",
    "plt.title('data6')\n",
    "fit = stats.linregress(data6['x'],data6['y'])\n",
    "data6['fit'] = data6['x']*fit.slope + fit.intercept\n",
    "plt.plot(data6['x'], data6['y'], 'b.')\n",
    "plt.plot(data6['x'], data6['fit'], 'r-')\n",
    "plt.show()"
   ]
  },
  {
   "cell_type": "code",
   "execution_count": 50,
   "metadata": {},
   "outputs": [
    {
     "data": {
      "text/html": [
       "<div>\n",
       "<style scoped>\n",
       "    .dataframe tbody tr th:only-of-type {\n",
       "        vertical-align: middle;\n",
       "    }\n",
       "\n",
       "    .dataframe tbody tr th {\n",
       "        vertical-align: top;\n",
       "    }\n",
       "\n",
       "    .dataframe thead th {\n",
       "        text-align: right;\n",
       "    }\n",
       "</style>\n",
       "<table border=\"1\" class=\"dataframe\">\n",
       "  <thead>\n",
       "    <tr style=\"text-align: right;\">\n",
       "      <th></th>\n",
       "      <th>meanX</th>\n",
       "      <th>stdX</th>\n",
       "      <th>rangeX</th>\n",
       "      <th>meanY</th>\n",
       "      <th>stdY</th>\n",
       "      <th>rangeY</th>\n",
       "      <th>corr_coeff</th>\n",
       "      <th>descriptions</th>\n",
       "    </tr>\n",
       "  </thead>\n",
       "  <tbody>\n",
       "    <tr>\n",
       "      <th>data1</th>\n",
       "      <td>8.717696</td>\n",
       "      <td>12.155517</td>\n",
       "      <td>[35.23705548785129, -22.635877790008944]</td>\n",
       "      <td>12.522874</td>\n",
       "      <td>6.639964</td>\n",
       "      <td>[27.38415261152477, -2.565087832693213]</td>\n",
       "      <td>0.950326</td>\n",
       "      <td>data-1.csv: Based on r the data contains (x,y)...</td>\n",
       "    </tr>\n",
       "    <tr>\n",
       "      <th>data2</th>\n",
       "      <td>-0.710787</td>\n",
       "      <td>11.481584</td>\n",
       "      <td>[27.6470003722073, -33.2711130771198]</td>\n",
       "      <td>-0.748987</td>\n",
       "      <td>6.257918</td>\n",
       "      <td>[14.14731499231748, -18.621803760419063]</td>\n",
       "      <td>0.955153</td>\n",
       "      <td>data-2.csv: Based on r the data contains (x,y)...</td>\n",
       "    </tr>\n",
       "    <tr>\n",
       "      <th>data3</th>\n",
       "      <td>0.968907</td>\n",
       "      <td>2.235558</td>\n",
       "      <td>[4.51888491755363, -2.4490643296742807]</td>\n",
       "      <td>8.508535</td>\n",
       "      <td>1.149301</td>\n",
       "      <td>[10.551871022804317, 6.641734490391763]</td>\n",
       "      <td>0.981937</td>\n",
       "      <td>data-3.csv: Based on r the data contains (x,y)...</td>\n",
       "    </tr>\n",
       "    <tr>\n",
       "      <th>data4</th>\n",
       "      <td>49.905086</td>\n",
       "      <td>28.508611</td>\n",
       "      <td>[87.3767, 0.0]</td>\n",
       "      <td>18.553837</td>\n",
       "      <td>16.545896</td>\n",
       "      <td>[44.56504, 0.0]</td>\n",
       "      <td>-0.081193</td>\n",
       "      <td>data-4.csv: Based on r the data contains (x,y)...</td>\n",
       "    </tr>\n",
       "    <tr>\n",
       "      <th>data5</th>\n",
       "      <td>49.909994</td>\n",
       "      <td>28.500001</td>\n",
       "      <td>[91.0528633396976, 4.337892453674525]</td>\n",
       "      <td>18.555525</td>\n",
       "      <td>16.540796</td>\n",
       "      <td>[49.93419703633311, 0.0554975075811517]</td>\n",
       "      <td>-0.088236</td>\n",
       "      <td>data-5.csv: Based on r the data contains (x,y)...</td>\n",
       "    </tr>\n",
       "    <tr>\n",
       "      <th>data6</th>\n",
       "      <td>7.216155</td>\n",
       "      <td>11.921599</td>\n",
       "      <td>[35.402138910929, -24.33382075234097]</td>\n",
       "      <td>7.602215</td>\n",
       "      <td>11.764382</td>\n",
       "      <td>[36.07987403078143, -22.9563569970746]</td>\n",
       "      <td>0.935069</td>\n",
       "      <td>data-6.csv: Based on r the data contains (x,y)...</td>\n",
       "    </tr>\n",
       "  </tbody>\n",
       "</table>\n",
       "</div>"
      ],
      "text/plain": [
       "           meanX       stdX                                    rangeX  \\\n",
       "data1   8.717696  12.155517  [35.23705548785129, -22.635877790008944]   \n",
       "data2  -0.710787  11.481584     [27.6470003722073, -33.2711130771198]   \n",
       "data3   0.968907   2.235558   [4.51888491755363, -2.4490643296742807]   \n",
       "data4  49.905086  28.508611                            [87.3767, 0.0]   \n",
       "data5  49.909994  28.500001     [91.0528633396976, 4.337892453674525]   \n",
       "data6   7.216155  11.921599     [35.402138910929, -24.33382075234097]   \n",
       "\n",
       "           meanY       stdY                                    rangeY  \\\n",
       "data1  12.522874   6.639964   [27.38415261152477, -2.565087832693213]   \n",
       "data2  -0.748987   6.257918  [14.14731499231748, -18.621803760419063]   \n",
       "data3   8.508535   1.149301   [10.551871022804317, 6.641734490391763]   \n",
       "data4  18.553837  16.545896                           [44.56504, 0.0]   \n",
       "data5  18.555525  16.540796   [49.93419703633311, 0.0554975075811517]   \n",
       "data6   7.602215  11.764382    [36.07987403078143, -22.9563569970746]   \n",
       "\n",
       "       corr_coeff                                       descriptions  \n",
       "data1    0.950326  data-1.csv: Based on r the data contains (x,y)...  \n",
       "data2    0.955153  data-2.csv: Based on r the data contains (x,y)...  \n",
       "data3    0.981937  data-3.csv: Based on r the data contains (x,y)...  \n",
       "data4   -0.081193  data-4.csv: Based on r the data contains (x,y)...  \n",
       "data5   -0.088236  data-5.csv: Based on r the data contains (x,y)...  \n",
       "data6    0.935069  data-6.csv: Based on r the data contains (x,y)...  "
      ]
     },
     "execution_count": 50,
     "metadata": {},
     "output_type": "execute_result"
    }
   ],
   "source": [
    "summary['descriptions'] = [\"data-1.csv: Based on r the data contains (x,y) pairs that have a strong correlationand, the data points are scattered around a straight line, which can be seen in the first graph.\",\n",
    "                          \"data-2.csv: Based on r the data contains (x,y) pairs that have a strong correlationand, the data points are scattered around a straight line, which can be seen in the second graph.\",\n",
    "                          \"data-3.csv: Based on r the data contains (x,y) pairs that have a strong correlationand, the data points gather into four group, which can be seen in the third graph.\",\n",
    "                          \"data-4.csv: Based on r the data contains (x,y) pairs that have a weak correlation, the graph shows the SFU logo\",\n",
    "                          \"data-5.csv: Based on r the data contains (x,y) pairs that have a weak correlation, the points gather into five vertical and parallel line\",\n",
    "                            \"data-6.csv: Based on r the data contains (x,y) pairs that have a very strong correlationand,the data points are scattered around a straight line without two outliers, which can be seen in the last graph \"\n",
    "                          ]\n",
    "summary"
   ]
  },
  {
   "cell_type": "code",
   "execution_count": 51,
   "metadata": {},
   "outputs": [],
   "source": [
    "with open(os.path.join(\"summary.txt\"),'w') as outfile:\n",
    "    summary.to_string(outfile)"
   ]
  }
 ],
 "metadata": {
  "interpreter": {
   "hash": "edac005d18d8db2248780fe94ce12f7501234e061d07adf771a605d8e72454d1"
  },
  "kernelspec": {
   "display_name": "Python 3.9.7 64-bit",
   "name": "python3"
  },
  "language_info": {
   "codemirror_mode": {
    "name": "ipython",
    "version": 3
   },
   "file_extension": ".py",
   "mimetype": "text/x-python",
   "name": "python",
   "nbconvert_exporter": "python",
   "pygments_lexer": "ipython3",
   "version": "3.9.7"
  }
 },
 "nbformat": 4,
 "nbformat_minor": 5
}
