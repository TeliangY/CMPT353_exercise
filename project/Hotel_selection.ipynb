{
 "cells": [
  {
   "cell_type": "code",
   "execution_count": 1,
   "id": "04737554",
   "metadata": {},
   "outputs": [],
   "source": [
    "import pandas as pd\n",
    "import numpy as np\n",
    "import folium\n",
    "import sys\n",
    "from PIL import Image\n",
    "from PIL.ExifTags import TAGS, GPSTAGS\n",
    "from math import cos, asin, sqrt, pi\n",
    "from folium.plugins import HeatMap"
   ]
  },
  {
   "cell_type": "code",
   "execution_count": 2,
   "id": "a87054f4",
   "metadata": {},
   "outputs": [],
   "source": [
    "def get_exif(filename):\n",
    "    return Image.open(filename)._getexif()"
   ]
  },
  {
   "cell_type": "code",
   "execution_count": 3,
   "id": "9bc61abc",
   "metadata": {},
   "outputs": [],
   "source": [
    "def get_labeled_exif(exif):\n",
    "    labeled = {}\n",
    "    for (key, val) in exif.items():\n",
    "        labeled[TAGS.get(key)] = val\n",
    "\n",
    "    return labeled"
   ]
  },
  {
   "cell_type": "code",
   "execution_count": 4,
   "id": "fc175ca0",
   "metadata": {},
   "outputs": [],
   "source": [
    "def get_geotagging(exif):\n",
    "    if not exif:\n",
    "        raise ValueError(\"No EXIF metadata found\")\n",
    "\n",
    "    geotagging = {}\n",
    "    for (idx, tag) in TAGS.items():\n",
    "        if tag == 'GPSInfo':\n",
    "            if idx not in exif:\n",
    "                raise ValueError(\"No EXIF geotagging found\")\n",
    "\n",
    "            for (key, val) in GPSTAGS.items():\n",
    "                if key in exif[idx]:\n",
    "                    geotagging[val] = exif[idx][key]\n",
    "\n",
    "    return geotagging"
   ]
  },
  {
   "cell_type": "code",
   "execution_count": 5,
   "id": "5cd9e589",
   "metadata": {},
   "outputs": [],
   "source": [
    "def get_decimal_from_dms(dms, ref):\n",
    "\n",
    "    # https://stackoverflow.com/questions/64405326/django-exif-data-ifdrational-object-is-not-subscriptable\n",
    "    degrees = dms[0]\n",
    "    minutes = dms[1] / 60.0\n",
    "    seconds = dms[2] / 3600.0\n",
    "\n",
    "    if ref in ['S', 'W']:\n",
    "        degrees = -degrees\n",
    "        minutes = -minutes\n",
    "        seconds = -seconds\n",
    "\n",
    "    return round(degrees + minutes + seconds, 5)\n"
   ]
  },
  {
   "cell_type": "code",
   "execution_count": 6,
   "id": "b06fb383",
   "metadata": {},
   "outputs": [],
   "source": [
    "\n",
    "def get_coordinates(geotags):\n",
    "    lat = get_decimal_from_dms(geotags['GPSLatitude'], geotags['GPSLatitudeRef'])\n",
    "\n",
    "    lon = get_decimal_from_dms(geotags['GPSLongitude'], geotags['GPSLongitudeRef'])\n",
    "\n",
    "    return (lat,lon)"
   ]
  },
  {
   "cell_type": "code",
   "execution_count": 7,
   "id": "c3371c20",
   "metadata": {},
   "outputs": [],
   "source": [
    "def cal_distance(hotel_range):\n",
    "    p = pi / 180\n",
    "    lat1 = hotel_range['lat']\n",
    "    lon1 = hotel_range['lon']\n",
    "    lat2 = hotel_range['latitude']\n",
    "    lon2 = hotel_range['longitude']\n",
    "\n",
    "    a = 0.5-np.cos((lat2 - lat1) * p)/2 + np.cos(lat1 * p) * np.cos(lat2 * p) * (1 - np.cos((lon2 - lon1) * p)) / 2\n",
    "    b = 12742*np.arcsin(np.sqrt(a))*1000\n",
    "   \n",
    "    return b"
   ]
  },
  {
   "cell_type": "code",
   "execution_count": 8,
   "id": "ac7533cf",
   "metadata": {},
   "outputs": [],
   "source": [
    "def cal_dis(lat1, lon1, lat2, lon2):\n",
    "    p = pi / 180\n",
    "    a = 0.5-np.cos((lat2 - lat1) * p)/2 + np.cos(lat1 * p) * np.cos(lat2 * p) * (1 - np.cos((lon2 - lon1) * p)) / 2\n",
    "    b = 12742*np.arcsin(np.sqrt(a))*1000\n",
    "   \n",
    "    return b"
   ]
  },
  {
   "cell_type": "code",
   "execution_count": 9,
   "id": "f0f2f9c7",
   "metadata": {},
   "outputs": [],
   "source": [
    "def count_amenities(df1,df,category):\n",
    "    df2 = df[df['amenity']== category ].reset_index(drop = True)\n",
    "    times = 0\n",
    "    for i in range(len(df2.index)):\n",
    "        lat1 = df1['latitude']\n",
    "        lon1 = df1['longitude']\n",
    "        lat2 = df2['lat'][i]\n",
    "        lon2 = df2['lon'][i]\n",
    "        d = cal_dis(lat1, lon1, lat2, lon2)\n",
    "        if d < 500 :\n",
    "            times  = times + 1\n",
    "    return times"
   ]
  },
  {
   "cell_type": "code",
   "execution_count": 10,
   "id": "c1a7dc53",
   "metadata": {},
   "outputs": [],
   "source": [
    "def main(input_directory, output_directory):\n",
    "    # Identify current location\n",
    "    image = input_directory\n",
    "    #image = 'p1.jpg'\n",
    "    exif = get_exif(image)\n",
    "    labeled = get_labeled_exif(exif)\n",
    "    geotags = get_geotagging(exif)\n",
    "    lat, lon = get_coordinates(geotags)\n",
    "    lat = float(lat)\n",
    "    lon = float(lon)\n",
    "    \n",
    "    #Create amenity table with additional amenities\n",
    "    amen = pd.read_json('amenities-vancouver.json.gz', lines=True)\n",
    "    hotel = pd.read_csv(\"listings.csv\")\n",
    "    addition_amen = pd.read_csv('other_amenities.csv')\n",
    "    amen = amen.drop(['timestamp','tags'], axis=1)\n",
    "    amen = amen.dropna().reset_index(drop= True)\n",
    "    df = [amen, addition_amen]\n",
    "    new_amen = pd.concat(df).reset_index(drop = True)\n",
    "    \n",
    "    filt = ['arts_centre','restaurant','bar','casino', 'cinema', 'clock','museum','park','university','beach','theatre','lake', 'shopping_centre','conference_centre']\n",
    "    new_amen = new_amen[new_amen['amenity'].isin(filt) == True]\n",
    "\n",
    "\n",
    "    \n",
    "\n",
    "    # Find hotel within 300m \n",
    "    hotel['lon'] = lon\n",
    "    hotel['lat'] = lat\n",
    "    distance = cal_distance(hotel)\n",
    "\n",
    "    hotel['distance'] = distance\n",
    "    hotel = hotel[hotel['distance']< 300]\n",
    "    \n",
    "    #Clean Unnecassary for visitors\n",
    "    hotel = hotel.drop(['host_id','host_name','neighbourhood_group', 'neighbourhood','number_of_reviews','last_review','reviews_per_month','calculated_host_listings_count','availability_365','lon','lat','distance' ], axis = 1)\n",
    "    hotel = hotel.reset_index(drop=True)\n",
    "    \n",
    "    \n",
    "    hotel['art_centres'] = hotel.apply(count_amenities,df = new_amen, category = 'arts_centre', axis = 1) \n",
    "    hotel['bars'] = hotel.apply(count_amenities,df = new_amen,category = 'bar', axis = 1) \n",
    "    hotel['threatres'] = hotel.apply(count_amenities,df = new_amen,category = 'threatre', axis = 1) \n",
    "    hotel['museums'] = hotel.apply(count_amenities,df = new_amen,category = 'museum', axis = 1) \n",
    "    hotel['casinos']= hotel.apply(count_amenities,df = new_amen,category = 'casino', axis = 1) \n",
    "    hotel['cinemas'] = hotel.apply(count_amenities,df = new_amen,category = 'cinema', axis = 1) \n",
    "    hotel['parks'] = hotel.apply(count_amenities,df = new_amen,category = 'park', axis = 1)\n",
    "    hotel['restaurants'] = hotel.apply(count_amenities,df = new_amen,category = 'restaurant', axis = 1)\n",
    "    hotel['conference_centres'] = hotel.apply(count_amenities,df = new_amen,category = 'conference_centre', axis = 1) \n",
    "    \n",
    "    hotel = hotel.sort_values(by=['price'])\n",
    "    \n",
    "    # Show density graph of the amenities in Vancouver\n",
    "    van_map = folium.Map(location=[lat, lon], zoom_start=12)\n",
    "    incidents = folium.map.FeatureGroup()\n",
    "    \n",
    "    folium.Marker(\n",
    "    location=[lat, lon],\n",
    "    popup=\"My postion\",\n",
    "    icon=folium.Icon(icon=\"cloud\"),\n",
    "    ).add_to(van_map)\n",
    "\n",
    "    heatpoints = new_amen[['lat', 'lon']].values.tolist()\n",
    "    HeatMap(heatpoints).add_to(van_map)\n",
    "    \n",
    "    incidents = folium.map.FeatureGroup()\n",
    "    latitudes = list(hotel.latitude)\n",
    "    longitudes = list(hotel.longitude)\n",
    "    labels = list(hotel.name)\n",
    "    for lat, lng, label in zip(latitudes, longitudes, labels):\n",
    "        folium.Marker([lat, lng], popup=label).add_to(van_map)\n",
    "    van_map.add_child(incidents)\n",
    "    \n",
    "    hotel = hotel.drop(['latitude','longitude'], axis = 1)\n",
    "    \n",
    "    van_map.save(outfile= \"Amenity.html\")\n",
    "    hotel.to_csv(output_directory)\n",
    "    "
   ]
  },
  {
   "cell_type": "code",
   "execution_count": 11,
   "id": "4536a3ab",
   "metadata": {},
   "outputs": [],
   "source": [
    "if __name__=='__main__':\n",
    "    #input_directory = sys.argv[1]\n",
    "    input_directory = 'p1.jpg'\n",
    "    #output_directory = sys.argv[2]\n",
    "    output_directory = 'hotel_list'\n",
    "    main(input_directory,output_directory)"
   ]
  },
  {
   "cell_type": "code",
   "execution_count": null,
   "id": "c2065051",
   "metadata": {},
   "outputs": [],
   "source": []
  }
 ],
 "metadata": {
  "kernelspec": {
   "display_name": "Python 3",
   "language": "python",
   "name": "python3"
  },
  "language_info": {
   "codemirror_mode": {
    "name": "ipython",
    "version": 3
   },
   "file_extension": ".py",
   "mimetype": "text/x-python",
   "name": "python",
   "nbconvert_exporter": "python",
   "pygments_lexer": "ipython3",
   "version": "3.8.8"
  }
 },
 "nbformat": 4,
 "nbformat_minor": 5
}
