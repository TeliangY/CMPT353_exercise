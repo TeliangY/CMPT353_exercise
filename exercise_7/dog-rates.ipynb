{
 "cells": [
  {
   "cell_type": "code",
   "execution_count": 3,
   "id": "6d2323ee-e18b-4351-acb8-810fb1ec7b4c",
   "metadata": {},
   "outputs": [],
   "source": [
    "import numpy as np\n",
    "import pandas as pd\n",
    "from scipy import stats as sp\n",
    "import matplotlib.pyplot as plt\n",
    "import warnings\n",
    "warnings.filterwarnings(\"ignore\", 'This pattern has match groups')\n",
    "from datetime import datetime\n",
    "from scipy import stats\n",
    "import seaborn as sns"
   ]
  },
  {
   "cell_type": "code",
   "execution_count": 4,
   "id": "a5b4b9a1-c0ce-4fe3-8a3b-2307e725e323",
   "metadata": {},
   "outputs": [],
   "source": [
    "dog_rates = pd.read_csv('dog_rates_tweets.csv', parse_dates=True)"
   ]
  },
  {
   "cell_type": "code",
   "execution_count": 5,
   "id": "25a62ad1-2cb0-44d3-80de-b8f8c2f0ff9c",
   "metadata": {},
   "outputs": [],
   "source": [
    "contain = r'(\\d+(\\.\\d+)?)/10'"
   ]
  },
  {
   "cell_type": "code",
   "execution_count": 6,
   "id": "320c4abd-6e90-4e1d-a3bc-57b24d18a730",
   "metadata": {},
   "outputs": [],
   "source": [
    "bool_contain = dog_rates[dog_rates['text'].str.contains(contain)].copy()"
   ]
  },
  {
   "cell_type": "code",
   "execution_count": 7,
   "id": "447931b9-a22d-4025-8c3c-7cdcac93dde9",
   "metadata": {},
   "outputs": [],
   "source": [
    "bool_contain['rating'] = pd.to_numeric(bool_contain.text.str.extract(contain)[0], downcast='float')"
   ]
  },
  {
   "cell_type": "code",
   "execution_count": 8,
   "id": "1fd992c9-f189-441f-9556-c8fa7aea92e8",
   "metadata": {},
   "outputs": [],
   "source": [
    "bool_contain = bool_contain[bool_contain.rating <= 25]\n",
    "bool_contain = bool_contain[bool_contain.rating >=0]"
   ]
  },
  {
   "cell_type": "code",
   "execution_count": 9,
   "id": "065df478-19b9-4bda-b601-4085563c3570",
   "metadata": {},
   "outputs": [],
   "source": [
    "bool_contain['created_at'] = pd.to_datetime(bool_contain['created_at'], format='%Y-%m-%d %H:%M:%S')"
   ]
  },
  {
   "cell_type": "code",
   "execution_count": 10,
   "id": "35de9344-4dae-446e-94d1-7462707fb3ce",
   "metadata": {},
   "outputs": [],
   "source": [
    "def to_timestamp(d):\n",
    "    return d.timestamp()\n",
    "bool_contain['timestamp'] = bool_contain['created_at'].apply(to_timestamp)\n",
    "fit = stats.linregress(bool_contain.timestamp,bool_contain.rating)\n",
    "slope = fit.slope\n",
    "intercept = fit.intercept"
   ]
  },
  {
   "cell_type": "code",
   "execution_count": 11,
   "id": "79ad7445-718b-4c8a-abfb-217751988242",
   "metadata": {},
   "outputs": [
    {
     "data": {
      "text/html": [
       "<div>\n",
       "<style scoped>\n",
       "    .dataframe tbody tr th:only-of-type {\n",
       "        vertical-align: middle;\n",
       "    }\n",
       "\n",
       "    .dataframe tbody tr th {\n",
       "        vertical-align: top;\n",
       "    }\n",
       "\n",
       "    .dataframe thead th {\n",
       "        text-align: right;\n",
       "    }\n",
       "</style>\n",
       "<table border=\"1\" class=\"dataframe\">\n",
       "  <thead>\n",
       "    <tr style=\"text-align: right;\">\n",
       "      <th></th>\n",
       "      <th>id</th>\n",
       "      <th>created_at</th>\n",
       "      <th>text</th>\n",
       "      <th>rating</th>\n",
       "      <th>timestamp</th>\n",
       "      <th>prediction</th>\n",
       "    </tr>\n",
       "  </thead>\n",
       "  <tbody>\n",
       "    <tr>\n",
       "      <th>2</th>\n",
       "      <td>994363623421153280</td>\n",
       "      <td>2018-05-09 23:48:56</td>\n",
       "      <td>This is Louie. He has misplaced his Cheerio. W...</td>\n",
       "      <td>14.0</td>\n",
       "      <td>1.525910e+09</td>\n",
       "      <td>12.624973</td>\n",
       "    </tr>\n",
       "    <tr>\n",
       "      <th>7</th>\n",
       "      <td>993889039714578432</td>\n",
       "      <td>2018-05-08 16:23:07</td>\n",
       "      <td>This is Manny. He hasn’t seen your croissant. ...</td>\n",
       "      <td>13.0</td>\n",
       "      <td>1.525797e+09</td>\n",
       "      <td>12.622373</td>\n",
       "    </tr>\n",
       "    <tr>\n",
       "      <th>8</th>\n",
       "      <td>993629544463642624</td>\n",
       "      <td>2018-05-07 23:11:58</td>\n",
       "      <td>This is Libby. She leap. 14/10\\n(IG: libbythef...</td>\n",
       "      <td>14.0</td>\n",
       "      <td>1.525735e+09</td>\n",
       "      <td>12.620951</td>\n",
       "    </tr>\n",
       "    <tr>\n",
       "      <th>24</th>\n",
       "      <td>992198572664860672</td>\n",
       "      <td>2018-05-04 00:25:48</td>\n",
       "      <td>This is Rosie. She thought Coachella was this ...</td>\n",
       "      <td>13.0</td>\n",
       "      <td>1.525394e+09</td>\n",
       "      <td>12.613110</td>\n",
       "    </tr>\n",
       "    <tr>\n",
       "      <th>30</th>\n",
       "      <td>991744041351090177</td>\n",
       "      <td>2018-05-02 18:19:39</td>\n",
       "      <td>This is Riley. He’ll be your chauffeur this ev...</td>\n",
       "      <td>13.0</td>\n",
       "      <td>1.525285e+09</td>\n",
       "      <td>12.610619</td>\n",
       "    </tr>\n",
       "    <tr>\n",
       "      <th>...</th>\n",
       "      <td>...</td>\n",
       "      <td>...</td>\n",
       "      <td>...</td>\n",
       "      <td>...</td>\n",
       "      <td>...</td>\n",
       "      <td>...</td>\n",
       "    </tr>\n",
       "    <tr>\n",
       "      <th>11631</th>\n",
       "      <td>1096203765189726208</td>\n",
       "      <td>2019-02-15 00:25:18</td>\n",
       "      <td>honorary 15/10 for Oppy, the very good space r...</td>\n",
       "      <td>15.0</td>\n",
       "      <td>1.550190e+09</td>\n",
       "      <td>13.183015</td>\n",
       "    </tr>\n",
       "    <tr>\n",
       "      <th>11638</th>\n",
       "      <td>1095730341828915200</td>\n",
       "      <td>2019-02-13 17:04:05</td>\n",
       "      <td>This is George. He doesn’t chew socks. He just...</td>\n",
       "      <td>14.0</td>\n",
       "      <td>1.550077e+09</td>\n",
       "      <td>13.180420</td>\n",
       "    </tr>\n",
       "    <tr>\n",
       "      <th>11665</th>\n",
       "      <td>1093636946046242817</td>\n",
       "      <td>2019-02-07 22:25:41</td>\n",
       "      <td>@Panthers @Proud_KCS 13/10 easy</td>\n",
       "      <td>13.0</td>\n",
       "      <td>1.549578e+09</td>\n",
       "      <td>13.168949</td>\n",
       "    </tr>\n",
       "    <tr>\n",
       "      <th>11666</th>\n",
       "      <td>1093636812818472960</td>\n",
       "      <td>2019-02-07 22:25:09</td>\n",
       "      <td>RT @GeekandSundry: .@Dog_Rates Announces a New...</td>\n",
       "      <td>13.0</td>\n",
       "      <td>1.549578e+09</td>\n",
       "      <td>13.168949</td>\n",
       "    </tr>\n",
       "    <tr>\n",
       "      <th>11672</th>\n",
       "      <td>1093315910369107968</td>\n",
       "      <td>2019-02-07 01:10:00</td>\n",
       "      <td>This is Missy. These are her best angles. She ...</td>\n",
       "      <td>12.0</td>\n",
       "      <td>1.549502e+09</td>\n",
       "      <td>13.167190</td>\n",
       "    </tr>\n",
       "  </tbody>\n",
       "</table>\n",
       "<p>1871 rows × 6 columns</p>\n",
       "</div>"
      ],
      "text/plain": [
       "                        id          created_at  \\\n",
       "2       994363623421153280 2018-05-09 23:48:56   \n",
       "7       993889039714578432 2018-05-08 16:23:07   \n",
       "8       993629544463642624 2018-05-07 23:11:58   \n",
       "24      992198572664860672 2018-05-04 00:25:48   \n",
       "30      991744041351090177 2018-05-02 18:19:39   \n",
       "...                    ...                 ...   \n",
       "11631  1096203765189726208 2019-02-15 00:25:18   \n",
       "11638  1095730341828915200 2019-02-13 17:04:05   \n",
       "11665  1093636946046242817 2019-02-07 22:25:41   \n",
       "11666  1093636812818472960 2019-02-07 22:25:09   \n",
       "11672  1093315910369107968 2019-02-07 01:10:00   \n",
       "\n",
       "                                                    text  rating  \\\n",
       "2      This is Louie. He has misplaced his Cheerio. W...    14.0   \n",
       "7      This is Manny. He hasn’t seen your croissant. ...    13.0   \n",
       "8      This is Libby. She leap. 14/10\\n(IG: libbythef...    14.0   \n",
       "24     This is Rosie. She thought Coachella was this ...    13.0   \n",
       "30     This is Riley. He’ll be your chauffeur this ev...    13.0   \n",
       "...                                                  ...     ...   \n",
       "11631  honorary 15/10 for Oppy, the very good space r...    15.0   \n",
       "11638  This is George. He doesn’t chew socks. He just...    14.0   \n",
       "11665                    @Panthers @Proud_KCS 13/10 easy    13.0   \n",
       "11666  RT @GeekandSundry: .@Dog_Rates Announces a New...    13.0   \n",
       "11672  This is Missy. These are her best angles. She ...    12.0   \n",
       "\n",
       "          timestamp  prediction  \n",
       "2      1.525910e+09   12.624973  \n",
       "7      1.525797e+09   12.622373  \n",
       "8      1.525735e+09   12.620951  \n",
       "24     1.525394e+09   12.613110  \n",
       "30     1.525285e+09   12.610619  \n",
       "...             ...         ...  \n",
       "11631  1.550190e+09   13.183015  \n",
       "11638  1.550077e+09   13.180420  \n",
       "11665  1.549578e+09   13.168949  \n",
       "11666  1.549578e+09   13.168949  \n",
       "11672  1.549502e+09   13.167190  \n",
       "\n",
       "[1871 rows x 6 columns]"
      ]
     },
     "execution_count": 11,
     "metadata": {},
     "output_type": "execute_result"
    }
   ],
   "source": [
    "bool_contain['prediction'] = bool_contain.timestamp*slope + intercept\n",
    "bool_contain"
   ]
  },
  {
   "cell_type": "code",
   "execution_count": 12,
   "id": "230572e7-9a9a-4cf7-a71d-e5e2582954ac",
   "metadata": {},
   "outputs": [
    {
     "data": {
      "text/plain": [
       "(2.2983031752244575e-08, -22.44505872628138)"
      ]
     },
     "execution_count": 12,
     "metadata": {},
     "output_type": "execute_result"
    }
   ],
   "source": [
    "fit.slope, fit.intercept"
   ]
  },
  {
   "cell_type": "code",
   "execution_count": 13,
   "id": "aacae8fd-71cf-4c3d-82c8-f7c3d3a614ee",
   "metadata": {},
   "outputs": [
    {
     "data": {
      "image/png": "[encoded data removed]",
      "text/plain": [
       "<Figure size 432x288 with 1 Axes>"
      ]
     },
     "metadata": {
      "needs_background": "light"
     },
     "output_type": "display_data"
    }
   ],
   "source": [
    "plt.xticks(rotation=25)\n",
    "plt.plot(bool_contain['created_at'].values, bool_contain['rating'], 'b.' , alpha= 0.5 ) \n",
    "plt.plot(bool_contain['created_at'].values, slope*bool_contain['timestamp']+intercept, 'r-' , linewidth= 3 )\n",
    "plt.xlabel(\"Date\")\n",
    "plt.ylabel(\"Rating\")\n",
    "plt.show()"
   ]
  },
  {
   "cell_type": "code",
   "execution_count": 14,
   "metadata": {},
   "outputs": [
    {
     "data": {
      "text/plain": [
       "3.793798773104138e-121"
      ]
     },
     "execution_count": 14,
     "metadata": {},
     "output_type": "execute_result"
    }
   ],
   "source": [
    "fit.pvalue"
   ]
  },
  {
   "cell_type": "code",
   "execution_count": 15,
   "metadata": {},
   "outputs": [],
   "source": [
    "bool_contain['residuals'] = bool_contain['rating'] - bool_contain['prediction']"
   ]
  },
  {
   "cell_type": "code",
   "execution_count": 16,
   "metadata": {},
   "outputs": [
    {
     "data": {
      "image/png": "[encoded data removed]",
      "text/plain": [
       "<Figure size 432x288 with 1 Axes>"
      ]
     },
     "metadata": {
      "needs_background": "light"
     },
     "output_type": "display_data"
    }
   ],
   "source": [
    "plt.hist(bool_contain['residuals'])\n",
    "plt.show()"
   ]
  }
 ],
 "metadata": {
  "interpreter": {
   "hash": "edac005d18d8db2248780fe94ce12f7501234e061d07adf771a605d8e72454d1"
  },
  "kernelspec": {
   "display_name": "Python 3.9.7 64-bit",
   "name": "python3"
  },
  "language_info": {
   "codemirror_mode": {
    "name": "ipython",
    "version": 3
   },
   "file_extension": ".py",
   "mimetype": "text/x-python",
   "name": "python",
   "nbconvert_exporter": "python",
   "pygments_lexer": "ipython3",
   "version": "3.8.8"
  }
 },
 "nbformat": 4,
 "nbformat_minor": 5
}
